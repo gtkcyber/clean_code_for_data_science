{
 "cells": [
  {
   "cell_type": "markdown",
   "metadata": {},
   "source": [
    "# Logging with Python\n",
    "\n",
    "Logging is one of the most useful tools in a code writer's toolkit. All too often, people get in the habit of using `print` statements to debug their code. While convenient, this causes a few problems. Firstly, what happens when you are done debugging? You now have to go back and remove all these `print` statements. If you forget one, you could be exposing potentially sensitive information or just generally cluttering up your user's screen with unnecesssary information. \n",
    "\n",
    "\n",
    "\n",
    "In this scenario, you will learn how to use Python's native logging features to:\n",
    "\n",
    "* Debug your code\n",
    "* Log failed and successful execution\n",
    "* Send logs to different destination\n",
    "\n",
    "Let's get started!\n",
    "\n",
    "## How Logging Works\n",
    "A logger is basically an enhanced print statement, with a few key enhancements:\n",
    "\n",
    "1. You can globally control when it fires. \n",
    "2. You can automatically add additional metadata such as process information, execution time etc. \n",
    "3. You can easily direct the output to different places, such as files, email, or remote log aggregators.\n",
    "\n",
    "\n",
    "## The Logging Module\n",
    "Python has a logging module built into the language so it is not necessary to install any additional modules to run the examples in this lab.  This lab assumes that you are using Python 3.6 or greater, but these examples should mostly work with earlier versions of Python.\n",
    "\n",
    "The module is simply called `logging` and should be imported at the beginning of your script or notebook with the command\n",
    "```\n",
    "import logging\n",
    "```\n",
    "Once you've imported the `logging` module, the next step is to create a logger object. This is done with the following command:\n",
    "```\n",
    "logger = logging.getLogger(\"debug_logger\")\n",
    "```\n",
    "Loggers have multiple levels and while it is possible to send logs directly from the root level, I do not recommend doing so. \n"
   ]
  },
  {
   "cell_type": "code",
   "execution_count": null,
   "metadata": {
    "ExecuteTime": {
     "end_time": "2020-05-08T15:06:56.349961Z",
     "start_time": "2020-05-08T15:06:56.347761Z"
    }
   },
   "outputs": [],
   "source": [
    "import logging"
   ]
  },
  {
   "cell_type": "markdown",
   "metadata": {},
   "source": [
    "## Logging Levels\n",
    "Python has five standard logging levels which are:\n",
    "\n",
    "* `DEBUG`\n",
    "* `INFO`\n",
    "* `WARNING`\n",
    "* `ERROR`\n",
    "* `CRITICAL`\n",
    "\n",
    "The logging levels are heirarchical, meaning that if you set the logging level to `ERROR` you will receive any messages at the `ERROR` or `CRITICAL` level.  By setting the level appropriately, you can control which level of messages are displayed. In general, you will want to \n",
    "\n",
    "Note: Logging messages at the `ERROR` level do not halt execution. To do that you still have to throw an exception. \n",
    "\n",
    "To set the logging level, use the following command:\n",
    "```\n",
    "logger.setLevel(logging.DEBUG)\n",
    "```\n",
    "Once you've done that, the next step is to actually add logging messages to your code. Instead of `print()` statements for debugging, you can use:\n",
    "```\n",
    "logger.debug(\"My var:\", x)\n",
    "```\n",
    "In the example below, run the code with the logging level set to `DEBUG` then try it again with the level set to `ERROR` and watch what happens.  "
   ]
  },
  {
   "cell_type": "code",
   "execution_count": null,
   "metadata": {
    "ExecuteTime": {
     "end_time": "2020-05-08T15:06:57.744186Z",
     "start_time": "2020-05-08T15:06:57.741278Z"
    }
   },
   "outputs": [],
   "source": [
    "# Create the logger\n",
    "my_logger = logging.getLogger(\"my_logger\")\n",
    "\n",
    "# Create the handler\n",
    "stream_handler = logging.StreamHandler()\n",
    "\n",
    "# Add the formatter to the handler.\n",
    "my_logger.addHandler(stream_handler)\n"
   ]
  },
  {
   "cell_type": "code",
   "execution_count": null,
   "metadata": {
    "ExecuteTime": {
     "end_time": "2020-05-08T15:07:03.674536Z",
     "start_time": "2020-05-08T15:07:03.660054Z"
    }
   },
   "outputs": [],
   "source": [
    "# Set the logging level to DEBUG\n",
    "my_logger.setLevel(logging.DEBUG)\n",
    "\n",
    "def countVowels(word):\n",
    "    my_logger.debug(\"In count vowels function\")\n",
    "    \n",
    "    vowel_count = 0\n",
    "    for char in word:\n",
    "        char = char.lower()\n",
    "        if char=='a' or char =='e'or char == 'i' or char == 'o' or char == 'u':\n",
    "            vowel_count += 1\n",
    "        elif char == 'y':\n",
    "            my_logger.info(\"Y is sometimes a vowel\")\n",
    "        elif char.isdigit():\n",
    "            my_logger.error(\"Numbers aren't vowels!!\")\n",
    "        else:\n",
    "            my_logger.debug(\"%s is not a vowel\", char)\n",
    "    return vowel_count\n",
    "\n",
    "count = countVowels(\"encylopedia\")\n",
    "my_logger.info(\"Function output: %d\", count)\n",
    "\n",
    "\n",
    "count = countVowels(\"faceb00k\")\n",
    "my_logger.info(\"Function output: %d\", count)\n"
   ]
  },
  {
   "cell_type": "markdown",
   "metadata": {},
   "source": [
    "# Log Formatting\n",
    "As you saw in the previous examples, you can set the level of messages that the logger produces and control what messages get output.  \n",
    "\n",
    "Let's say that we want to reformat our log strings to contain the time stamp, you could do so by adding the format below:\n",
    "\n",
    "```\n",
    "\"%(asctime)s — %(name)s — %(levelname)s — %(funcName)s:%(lineno)d — %(message)s\"\n",
    "```\n",
    "\n",
    "There are two ways to change the format of your log messages. The first is to use the `basicConfig()` function which sets the format globally. \n",
    "\n",
    "The second is a little more complicated, but in general a better way to set the format, and that is to first create a `handler` object, then set the formatting of the `handler` and finally apply the `handler` to your logger. The code is pretty straightforward as shown below.\n",
    "\n",
    "```\n",
    "# Create the handler\n",
    "my_handler = logging.StreamHandler()\n",
    "\n",
    "# Create the formatter\n",
    "my_format = logging.Formatter(\"%(asctime)s — %(name)s — %(levelname)s — %(funcName)s:%(lineno)d — %(message)s\")\n",
    "\n",
    "# Set the formatter\n",
    "stream_handler.setFormatter(my_format)\n",
    "\n",
    "# Add the formatter to the handler.\n",
    "my_logger.addHandler(stream_handler)\n",
    "```\n",
    "These steps can be combined, but I'm breaking them out into separate lines so that you understand the workflow. Creating a log handler isn't necessary for simple logging, but if you want to do different things with different log levels, it will be necessary to have multiple log handlers. For instance, you many want to have errors or critical alerts emailed to you, but info level logging simply appended to a file. \n",
    "\n",
    "\n",
    "Run the code example below and note how much more information we are getting.  We now can see the execution time, which can be useful for debugging slow running scripts, \n",
    "\n",
    "[1]: https://docs.python.org/3/library/logging.html#logrecord-attributes"
   ]
  },
  {
   "cell_type": "code",
   "execution_count": null,
   "metadata": {
    "ExecuteTime": {
     "end_time": "2020-05-08T15:08:19.895706Z",
     "start_time": "2020-05-08T15:08:19.892124Z"
    }
   },
   "outputs": [],
   "source": [
    "#Note:  Only run this cell once\n",
    "# Create another logger\n",
    "my_formatted_logger = logging.getLogger(\"my_formatted_logger\")\n",
    "\n",
    "# Create the handler\n",
    "stream_handler = logging.StreamHandler()\n",
    "\n",
    "# Create the formatter\n",
    "my_format = logging.Formatter(\"%(asctime)s — %(name)s — %(levelname)s — %(funcName)s:%(lineno)d — %(message)s\")\n",
    "\n",
    "# Set the formatter\n",
    "stream_handler.setFormatter(my_format)\n",
    "\n",
    "# Add the formatter to the handler.\n",
    "my_formatted_logger.addHandler(stream_handler)"
   ]
  },
  {
   "cell_type": "code",
   "execution_count": null,
   "metadata": {
    "ExecuteTime": {
     "end_time": "2020-05-08T15:08:20.645064Z",
     "start_time": "2020-05-08T15:08:20.633930Z"
    }
   },
   "outputs": [],
   "source": [
    "my_formatted_logger.setLevel(logging.DEBUG)\n",
    "\n",
    "def countVowels(word):\n",
    "    my_formatted_logger.debug(\"In count vowels function\")\n",
    "    \n",
    "    vowel_count = 0\n",
    "    for char in word:\n",
    "        char = char.lower()\n",
    "        if char=='a' or char =='e'or char == 'i' or char == 'o' or char == 'u':\n",
    "            vowel_count += 1\n",
    "        elif char == 'y':\n",
    "            my_formatted_logger.info(\"Y is sometimes a vowel\")\n",
    "        elif char.isdigit():\n",
    "            my_formatted_logger.error(\"Numbers aren't vowels!!\")\n",
    "        else:\n",
    "            my_formatted_logger.debug(\"%s is not a vowel\", char)\n",
    "    return vowel_count\n",
    "\n",
    "count = countVowels(\"faceb00ky\")\n",
    "my_formatted_logger.info(\"Function output: %d\", count)"
   ]
  },
  {
   "cell_type": "markdown",
   "metadata": {},
   "source": [
    "# Sending Logs to Different Destinations\n",
    "Our final task is learning how to send logs to different destinations. In production situations, you may want to be notified immediately via email or SMS message if your code is throwing a `CRITICAL` but you might only want confirmation of successful execution recorded in a file.  \n",
    "\n",
    "Let's consider the following pseudo code:\n",
    "\n",
    "```\n",
    "db_connection = connect_to_database()\n",
    "if db_connection is null:\n",
    "    email_logger.critical(\"Database connection failed.\")\n",
    "    exit(1)\n",
    "else:\n",
    "    file_logger.info(\"Database connection succeeded\")\n",
    "\n",
    "# Process data...\n",
    "\n",
    "file_logger.info(\"Sucessfully processed %d records\", record_count)\n",
    "\n",
    "```\n",
    "This code will send an email and stop execution if the connection to the database fails. If the connection to the database succeeds, execution will continue and the script will record its successful completion in a logfile. \n",
    "\n",
    "## Log Handlers\n",
    "You saw in the previous example that we used a `StreamHandler` to send the output to the screen. In addition to the `StreamHandler` python has many other handlers that can be used to send logs to other destinations including:\n",
    "\n",
    "* `FileHandler`: Used to send logs to a file\n",
    "* `SyslogHandler`: Used to send logging messages to a remote Syslog log aggregator\n",
    "* `SMTPHandler`: Used to send logging to an email\n",
    "\n",
    "A complete list of handlers is available here: [1]\n",
    "\n",
    "[1]: https://docs.python.org/3/library/logging.handlers.html\n",
    "\n",
    "The code below demonstrates how to log to both a file and email depending on the log level.  Note you will have to have a properly configured email account to execute this code."
   ]
  },
  {
   "cell_type": "code",
   "execution_count": null,
   "metadata": {
    "ExecuteTime": {
     "end_time": "2020-05-08T18:35:38.598649Z",
     "start_time": "2020-05-08T18:35:38.568466Z"
    }
   },
   "outputs": [],
   "source": [
    "import logging.handlers\n",
    "# Create loggers\n",
    "complex_logger = logging.getLogger(\"complex_logger\")\n",
    "\n",
    "# Create handlers\n",
    "file_handler = logging.FileHandler('report.log')\n",
    "email_handler = logging.handlers.SMTPHandler(mailhost=\"<mail server>\", \n",
    "                                             fromaddr=\"noreply@domain\", \n",
    "                                             toaddrs=\"cgivre@apache.org\", \n",
    "                                            subject=\"Error in Script\")\n",
    "\n",
    "# Set levels\n",
    "file_handler.setLevel(logging.INFO)\n",
    "email_handler.setLevel(logging.ERROR)\n",
    "\n",
    "# Add formatters\n",
    "my_format = logging.Formatter(\"%(asctime)s — %(name)s — %(levelname)s — %(funcName)s:%(lineno)d — %(message)s\")\n",
    "file_handler.setFormatter(my_format)\n",
    "email_handler.setFormatter(my_format)\n",
    "\n",
    "# Add handlers\n",
    "complex_logger.addHandler(file_handler)\n",
    "complex_logger.addHandler(email_handler)\n",
    "\n",
    "complex_logger.error(\"Bad stuff happened.  Sending to email\")\n",
    "complex_logger.info(\"File successully completed\")"
   ]
  },
  {
   "cell_type": "markdown",
   "metadata": {
    "ExecuteTime": {
     "end_time": "2020-05-08T18:23:08.572058Z",
     "start_time": "2020-05-08T18:23:08.564992Z"
    }
   },
   "source": [
    "# Conclusion \n",
    "In conclusion, in this module you have learned how to use logging to track the actions of your code and report them to different locations. I hope you see the value of logging as a replacement for print statements in debugging, as a way to track the execution of your code and send alerts when things go awry.\n",
    "\n",
    "\n",
    "This scene is only a brief intro to the world of logging with Python and there are many additional facets you can explore, however at a minimum, I hope I've convinced you to stop using `print()` statements and replace them with `logging.debug()`. \n",
    "\n",
    "\n",
    "Finally, as a security professional I need to include the admonition to never include credentials or other sensitive information in logs!\n",
    "\n",
    "\n",
    "### Further References\n",
    "* https://docs.python.org/3/library/logging.html\n",
    "* https://realpython.com/python-logging/#formatting-the-output\n",
    "* https://www.loggly.com/ultimate-guide/python-logging-basics/"
   ]
  },
  {
   "cell_type": "code",
   "execution_count": null,
   "metadata": {},
   "outputs": [],
   "source": []
  }
 ],
 "metadata": {
  "kernelspec": {
   "display_name": "Python 3",
   "language": "python",
   "name": "python3"
  },
  "language_info": {
   "codemirror_mode": {
    "name": "ipython",
    "version": 3
   },
   "file_extension": ".py",
   "mimetype": "text/x-python",
   "name": "python",
   "nbconvert_exporter": "python",
   "pygments_lexer": "ipython3",
   "version": "3.7.7"
  },
  "varInspector": {
   "cols": {
    "lenName": 16,
    "lenType": 16,
    "lenVar": 40
   },
   "kernels_config": {
    "python": {
     "delete_cmd_postfix": "",
     "delete_cmd_prefix": "del ",
     "library": "var_list.py",
     "varRefreshCmd": "print(var_dic_list())"
    },
    "r": {
     "delete_cmd_postfix": ") ",
     "delete_cmd_prefix": "rm(",
     "library": "var_list.r",
     "varRefreshCmd": "cat(var_dic_list()) "
    }
   },
   "types_to_exclude": [
    "module",
    "function",
    "builtin_function_or_method",
    "instance",
    "_Feature"
   ],
   "window_display": false
  }
 },
 "nbformat": 4,
 "nbformat_minor": 4
}
