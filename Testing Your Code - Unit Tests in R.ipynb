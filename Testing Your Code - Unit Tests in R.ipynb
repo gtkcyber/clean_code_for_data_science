{
 "cells": [
  {
   "cell_type": "markdown",
   "metadata": {
    "ExecuteTime": {
     "end_time": "2020-05-20T15:30:18.125450Z",
     "start_time": "2020-05-20T15:30:18.115Z"
    }
   },
   "source": [
    "# Testing Your Code - Unit Tests in R\n",
    "This scenario walks you through another key concept in a developer's toolkit: unit tests. As a data scientist, we often don't really think about testing our code, but using unit tests can help you write better code, faster and spend less time debugging.  Using unit tests will also help you keep your code working properly as you modify and improve your code. So let's get started!\n",
    "\n",
    "In this lesson you'll learn:\n",
    "* What are unit tests?\n",
    "* How to write effective unit tests \n",
    "* How to use the `testthat` framework in R\n",
    "\n",
    "## What Are Unit Tests?\n",
    "A unit test is an automated way of testing small blocks of code (usually functions) by executing that code and compares the behavior with expected results. \n",
    "\n",
    "Let's consider the following scenario: you have some data pipeline that needs an email address as an input. To make sure that the data is valid to begin with, you might create a function called `isValidEmail()` that accepts an email address as an argument and returns `true` or `false` depending on whether the email is valid or not.  This may seem like a simple situation, but how do you know that the function works in all cases?  What happens if the function receives no input?  What happens if the function receives more than one email address? \n",
    "\n",
    "The best way to make sure that your code is going to do what you expect it to do, is to write unit tests to actually test that your code does what you want it to do. \n",
    "\n",
    "### Unit Test Frameworks\n",
    "What I have described seems fairly straightforward, and for simple cases it is, however in every language there are unit test frameworks that can assist you in crafting effective unit tests.  Python has several, but the one that is included with the main python packages is creatively called `unittest`.\n",
    "\n",
    "Most all unit test frameworks have similar core features which are functionalities to:\n",
    "* Setup the environment prior to running tests\n",
    "* Execute code\n",
    "* Compare results with expected results, usually with a collection of `expect_()` methods\n",
    "* Clean up environment after running tests\n",
    "\n",
    "Frameworks will have other features as well, but these are the basic core functionalities, regardless of what framework you choose to use."
   ]
  },
  {
   "cell_type": "markdown",
   "metadata": {},
   "source": [
    "# Writing a Basic Unit Test\n",
    "Let's say that we have a simple function called `fahrenheit_to_celsius()` which accepts a Farenheit temperature and converts it to Celcius. In order to write a unit test to verify that the function does what we expect it to do in all cases.  Here is the function:"
   ]
  },
  {
   "cell_type": "code",
   "execution_count": 2,
   "metadata": {
    "ExecuteTime": {
     "end_time": "2020-05-20T15:33:41.243082Z",
     "start_time": "2020-05-20T15:33:41.233Z"
    }
   },
   "outputs": [],
   "source": [
    "fahrenheit_to_celsius <- function(temp_F) {\n",
    "  temp_C <- (temp_F - 32) * 5 / 9\n",
    "  return(temp_C)\n",
    "}"
   ]
  },
  {
   "cell_type": "markdown",
   "metadata": {},
   "source": [
    "Now, this is a simple function so let's write a unit test to see if in fact the function works. \n",
    "\n",
    "The first thing we have to do is import the `testthat` module and create another script with the test(s).  This test script should contain a series of tests that test a variety of conditions, such as invalid input, ranges of variables like zero, or negative numbers etc.\n",
    "\n",
    "A good tip is to name your test something descriptive such as `testValidationFunctionWithInvalidInput` rather than `test32` or something like that so that you will know which test failed and can debug faster.\n",
    "\n",
    "```R\n",
    "test_that(\"Test F to C with 212\",{\n",
    "  expect_equal(fahrenheit_to_celsius(212), 100)\n",
    "})\n",
    "```\n",
    "\n",
    "Every unit test should have at least one call to an `expect_()` method.  For now, we're going to use the `expect_equal(a,b)` method which expects `a` and `b` to be equal.  You will only see output if the test(s) fail.\n",
    "\n",
    "### Notebook Considerations\n",
    "**Note:  Normally, unit tests are contained in a separate files from your actual code, however for our purposes we are just going to run them in as one file. **\n"
   ]
  },
  {
   "cell_type": "code",
   "execution_count": 4,
   "metadata": {
    "ExecuteTime": {
     "end_time": "2020-05-20T15:35:47.379289Z",
     "start_time": "2020-05-20T15:35:47.331Z"
    }
   },
   "outputs": [],
   "source": [
    "library(testthat)"
   ]
  },
  {
   "cell_type": "code",
   "execution_count": 12,
   "metadata": {
    "ExecuteTime": {
     "end_time": "2020-05-20T15:44:21.053251Z",
     "start_time": "2020-05-20T15:44:21.040Z"
    },
    "code_folding": []
   },
   "outputs": [],
   "source": [
    "test_that(\"Test F to C with 212\",{\n",
    "  expect_equal(fahrenheit_to_celsius(212), 100)\n",
    "})\n",
    "\n",
    "test_that(\"Test F to C with 212.0\",{\n",
    "  expect_equal(fahrenheit_to_celsius(212.0), 100)\n",
    "})"
   ]
  },
  {
   "cell_type": "markdown",
   "metadata": {
    "ExecuteTime": {
     "end_time": "2020-05-20T15:39:56.152499Z",
     "start_time": "2020-05-20T15:39:56.139Z"
    }
   },
   "source": [
    "Let's see what happens when a unit test fails:"
   ]
  },
  {
   "cell_type": "code",
   "execution_count": 13,
   "metadata": {
    "ExecuteTime": {
     "end_time": "2020-05-20T15:44:58.978372Z",
     "start_time": "2020-05-20T15:44:58.964Z"
    }
   },
   "outputs": [
    {
     "ename": "ERROR",
     "evalue": "Error: Test failed: 'Test F to C with Incorrect Answer'\n* <text>:2: fahrenheit_to_celsius(212) not equal to 101.\n1/1 mismatches\n[1] 100 - 101 == -1\n",
     "output_type": "error",
     "traceback": [
      "Error: Test failed: 'Test F to C with Incorrect Answer'\n* <text>:2: fahrenheit_to_celsius(212) not equal to 101.\n1/1 mismatches\n[1] 100 - 101 == -1\nTraceback:\n",
      "1. test_that(\"Test F to C with Incorrect Answer\", {\n .     expect_equal(fahrenheit_to_celsius(212), 101)\n . })",
      "2. test_code(desc, code, env = parent.frame())",
      "3. get_reporter()$end_test(context = get_reporter()$.context, test = test)",
      "4. stop(message, call. = FALSE)"
     ]
    }
   ],
   "source": [
    "test_that(\"Test F to C with Incorrect Answer\",{\n",
    "  expect_equal(fahrenheit_to_celsius(212), 101)\n",
    "})"
   ]
  },
  {
   "cell_type": "markdown",
   "metadata": {},
   "source": [
    "## Testing Failure Conditions\n",
    "This test is not especially helpful but one thing you can do with the frameworks is test HOW your code fails and make sure that is what you want it to do.  For instance, what happens if you execute the following code:"
   ]
  },
  {
   "cell_type": "code",
   "execution_count": 14,
   "metadata": {
    "ExecuteTime": {
     "end_time": "2020-05-20T15:45:39.489134Z",
     "start_time": "2020-05-20T15:45:39.477Z"
    }
   },
   "outputs": [
    {
     "ename": "ERROR",
     "evalue": "Error in temp_F - 32: non-numeric argument to binary operator\n",
     "output_type": "error",
     "traceback": [
      "Error in temp_F - 32: non-numeric argument to binary operator\nTraceback:\n",
      "1. fahrenheit_to_celsius(\"212\")"
     ]
    }
   ],
   "source": [
    "fahrenheit_to_celsius(\"212\")"
   ]
  },
  {
   "cell_type": "markdown",
   "metadata": {
    "ExecuteTime": {
     "end_time": "2020-05-20T15:49:54.780671Z",
     "start_time": "2020-05-20T15:49:54.771Z"
    }
   },
   "source": [
    "The this code fails with an exception because R cannot convert a `string` to an `int`.  In a real situation, we might not want the code to halt execution with an exception due to bad input, or we might want to provide a more helpful error message. \n",
    "\n",
    "The `testthat` framework provides a series of `expect_` functions which enable you to test a variety of situations including:\n",
    "* `expect_equal(a,b)`: tests that a = b\n",
    "* `expect_true(a)`: tests that a is `True`\n",
    "* `expect_false(a)`: tests that a is `False`\n",
    "* `expect_error()`: tests that the unit test fails with a specific error type or message [1] When you test for errors, you should test not only that the function threw an error but for the error specifics.\n",
    "\n",
    "For a complete list of `expect_` methods look in the documentation here: https://testthat.r-lib.org/reference/index.html\n",
    "\n",
    "Let's try now writing a unit tests to make sure that the error returned with invalid input is in fact a `TypeError`\n",
    "\n",
    "[1]: https://testthat.r-lib.org/reference/expect_error.html"
   ]
  },
  {
   "cell_type": "code",
   "execution_count": 21,
   "metadata": {
    "ExecuteTime": {
     "end_time": "2020-05-20T15:52:44.669241Z",
     "start_time": "2020-05-20T15:52:44.654Z"
    }
   },
   "outputs": [],
   "source": [
    "test_that(\"Test Error\",{\n",
    "  expect_error(fahrenheit_to_celsius(\"212\"), regexp = \"non-numeric argument\")\n",
    "})"
   ]
  },
  {
   "cell_type": "markdown",
   "metadata": {},
   "source": [
    "In the example above we see that even though the code fails, the unit test passes because the code returns the correct error message. "
   ]
  },
  {
   "cell_type": "markdown",
   "metadata": {},
   "source": [
    "## Writing Effective Unit Tests\n",
    "Unit tests are intended for you, the data scientist, to help you make sure your code is doing what you want it to do, so here are a few thoughts on writing effective unit tests:\n",
    "\n",
    "* One assertion per unit test: While you can include multiple assertions in a unit test, it can make it difficult to figure out the cause of the failure, so keep the unit test to one assertion\n",
    "\n",
    "* Keep them short:  Unit tests should not be lengthy demonstrations of code cleverness. They should be simple, quick and easy to understand. If your tests are too complicated, sometimes you can spend hours trying to fix an issue that in fact was not in your code, but rather in your test.\n",
    "\n",
    "* Write unit tests as you go: Unit tests should not be an after thought. You should write them as you so that you identify bugs early and often. \n",
    "\n",
    "* Name your tests clearly:  As mentioend earlier, you should name your tests clearly so that it is obvious what failed.  \n",
    "\n",
    "* Test failure as well as success: When writing unit tests, think creatively about what could go wrong and write a test for that.  For instance, if you're populating a dataframe with data pulled from an external source, what happens if the source is unreachable?  What happens if the source changes their data format? Carefully considering what can go wrong can prevent disasters later.\n",
    "\n",
    "* Don't forget edge cases:  These are actually some of the most important unit tests. Give some thought to what edge cases exist and make sure you write a unit test for them.\n",
    "\n",
    "Finally, don't ignore the results of your tests.  If they aren't all passing, you're not done. Don't move on until ALL your unit tests pass."
   ]
  },
  {
   "cell_type": "markdown",
   "metadata": {},
   "source": [
    "## Final Thoughts\n",
    "This exercise has demonstrated how to write simple unit tests to debug code. There are a few topics which are beyond the scope of this tutorial which are:\n",
    "\n",
    "* Organizing your code in modules: This scenario demonstrated unit tests in a notebook context. Normally, unit tests are run in a separate script. \n",
    "* Dynamic tests: All the tests you saw used static input.  It is possible to run your unit test with dynamic input.\n",
    "\n",
    "\n",
    "## Conclusion\n",
    "In this short scenario, you learned how to use unit tests to test and debug your code. You learned how to use the `testthat` framework to craft these tests and test all kinds of conditions.  For further reading on the topic here are a few tutorials and references:\n",
    "\n",
    "* https://testthat.r-lib.org/index.html\n",
    "* https://towardsdatascience.com/unit-testing-in-r-68ab9cc8d211\n",
    "* https://docs.python-guide.org/writing/tests/\n",
    "* https://cran.r-project.org/web/packages/testthat/index.html"
   ]
  },
  {
   "cell_type": "code",
   "execution_count": null,
   "metadata": {},
   "outputs": [],
   "source": []
  }
 ],
 "metadata": {
  "kernelspec": {
   "display_name": "R",
   "language": "R",
   "name": "ir"
  },
  "language_info": {
   "codemirror_mode": "r",
   "file_extension": ".r",
   "mimetype": "text/x-r-source",
   "name": "R",
   "pygments_lexer": "r",
   "version": "4.0.0"
  },
  "varInspector": {
   "cols": {
    "lenName": 16,
    "lenType": 16,
    "lenVar": 40
   },
   "kernels_config": {
    "python": {
     "delete_cmd_postfix": "",
     "delete_cmd_prefix": "del ",
     "library": "var_list.py",
     "varRefreshCmd": "print(var_dic_list())"
    },
    "r": {
     "delete_cmd_postfix": ") ",
     "delete_cmd_prefix": "rm(",
     "library": "var_list.r",
     "varRefreshCmd": "cat(var_dic_list()) "
    }
   },
   "types_to_exclude": [
    "module",
    "function",
    "builtin_function_or_method",
    "instance",
    "_Feature"
   ],
   "window_display": false
  }
 },
 "nbformat": 4,
 "nbformat_minor": 4
}
