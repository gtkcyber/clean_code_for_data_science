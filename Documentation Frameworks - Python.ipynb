{
 "cells": [
  {
   "cell_type": "markdown",
   "metadata": {},
   "source": [
    "# Using Documentation Frameworks - Python\n",
    "One of the most important yet often overlooked tasks when writing code is writing documentation so that you  can use and maintain your code.  Documentation is especially important if you are writing code that will be used and maintained by other people. \n",
    "\n",
    "Python natively provides you with a few mechanisms to document your code as you write it and there are additional third-party modules which can produce formatted websites with your documentation.\n",
    "\n",
    "This scenario will walk you through:\n",
    "* How to access built in documentation\n",
    "* How to use `docstrings` to document your classes and methods\n",
    "* Best practices for documenting "
   ]
  },
  {
   "cell_type": "markdown",
   "metadata": {},
   "source": [
    "# Accessing Existing Documentation\n",
    "Python provides users with several ways of accessing documentation that is included in python code. Let's consider, the `math` module which is included in standard Python. The first step is to import the module. "
   ]
  },
  {
   "cell_type": "code",
   "execution_count": 1,
   "metadata": {
    "ExecuteTime": {
     "end_time": "2020-05-11T16:27:53.555308Z",
     "start_time": "2020-05-11T16:27:53.552254Z"
    }
   },
   "outputs": [],
   "source": [
    "import math"
   ]
  },
  {
   "cell_type": "markdown",
   "metadata": {},
   "source": [
    "Once that's done, there are two ways of accessing the docstrings, you can use the `__doc__` property or you can use the `help()` function. \n",
    "\n",
    "First, run the code below to see what you get when you access the docstring directly with the `__doc__` property."
   ]
  },
  {
   "cell_type": "code",
   "execution_count": 2,
   "metadata": {
    "ExecuteTime": {
     "end_time": "2020-05-11T16:28:50.912329Z",
     "start_time": "2020-05-11T16:28:50.901535Z"
    }
   },
   "outputs": [
    {
     "data": {
      "text/plain": [
       "'This module provides access to the mathematical functions\\ndefined by the C standard.'"
      ]
     },
     "execution_count": 2,
     "metadata": {},
     "output_type": "execute_result"
    }
   ],
   "source": [
    "math.__doc__"
   ]
  },
  {
   "cell_type": "markdown",
   "metadata": {},
   "source": [
    "You should see a short, single sentence description of what the module does:\n",
    "```\n",
    "'This module provides access to the mathematical functions\n",
    "defined by the C standard.'\n",
    "```\n",
    "\n",
    "Next, try executing the `help(math)` function and see what you get."
   ]
  },
  {
   "cell_type": "code",
   "execution_count": 12,
   "metadata": {
    "ExecuteTime": {
     "end_time": "2020-05-11T16:55:43.971233Z",
     "start_time": "2020-05-11T16:55:43.956881Z"
    }
   },
   "outputs": [
    {
     "name": "stdout",
     "output_type": "stream",
     "text": [
      "Help on module math:\n",
      "\n",
      "NAME\n",
      "    math\n",
      "\n",
      "MODULE REFERENCE\n",
      "    https://docs.python.org/3.7/library/math\n",
      "    \n",
      "    The following documentation is automatically generated from the Python\n",
      "    source files.  It may be incomplete, incorrect or include features that\n",
      "    are considered implementation detail and may vary between Python\n",
      "    implementations.  When in doubt, consult the module reference at the\n",
      "    location listed above.\n",
      "\n",
      "DESCRIPTION\n",
      "    This module provides access to the mathematical functions\n",
      "    defined by the C standard.\n",
      "\n",
      "FUNCTIONS\n",
      "    acos(x, /)\n",
      "        Return the arc cosine (measured in radians) of x.\n",
      "    \n",
      "    acosh(x, /)\n",
      "        Return the inverse hyperbolic cosine of x.\n",
      "    \n",
      "    asin(x, /)\n",
      "        Return the arc sine (measured in radians) of x.\n",
      "    \n",
      "    asinh(x, /)\n",
      "        Return the inverse hyperbolic sine of x.\n",
      "    \n",
      "    atan(x, /)\n",
      "        Return the arc tangent (measured in radians) of x.\n",
      "    \n",
      "    atan2(y, x, /)\n",
      "        Return the arc tangent (measured in radians) of y/x.\n",
      "        \n",
      "        Unlike atan(y/x), the signs of both x and y are considered.\n",
      "    \n",
      "    atanh(x, /)\n",
      "        Return the inverse hyperbolic tangent of x.\n",
      "    \n",
      "    ceil(x, /)\n",
      "        Return the ceiling of x as an Integral.\n",
      "        \n",
      "        This is the smallest integer >= x.\n",
      "    \n",
      "    copysign(x, y, /)\n",
      "        Return a float with the magnitude (absolute value) of x but the sign of y.\n",
      "        \n",
      "        On platforms that support signed zeros, copysign(1.0, -0.0)\n",
      "        returns -1.0.\n",
      "    \n",
      "    cos(x, /)\n",
      "        Return the cosine of x (measured in radians).\n",
      "    \n",
      "    cosh(x, /)\n",
      "        Return the hyperbolic cosine of x.\n",
      "    \n",
      "    degrees(x, /)\n",
      "        Convert angle x from radians to degrees.\n",
      "    \n",
      "    erf(x, /)\n",
      "        Error function at x.\n",
      "    \n",
      "    erfc(x, /)\n",
      "        Complementary error function at x.\n",
      "    \n",
      "    exp(x, /)\n",
      "        Return e raised to the power of x.\n",
      "    \n",
      "    expm1(x, /)\n",
      "        Return exp(x)-1.\n",
      "        \n",
      "        This function avoids the loss of precision involved in the direct evaluation of exp(x)-1 for small x.\n",
      "    \n",
      "    fabs(x, /)\n",
      "        Return the absolute value of the float x.\n",
      "    \n",
      "    factorial(x, /)\n",
      "        Find x!.\n",
      "        \n",
      "        Raise a ValueError if x is negative or non-integral.\n",
      "    \n",
      "    floor(x, /)\n",
      "        Return the floor of x as an Integral.\n",
      "        \n",
      "        This is the largest integer <= x.\n",
      "    \n",
      "    fmod(x, y, /)\n",
      "        Return fmod(x, y), according to platform C.\n",
      "        \n",
      "        x % y may differ.\n",
      "    \n",
      "    frexp(x, /)\n",
      "        Return the mantissa and exponent of x, as pair (m, e).\n",
      "        \n",
      "        m is a float and e is an int, such that x = m * 2.**e.\n",
      "        If x is 0, m and e are both 0.  Else 0.5 <= abs(m) < 1.0.\n",
      "    \n",
      "    fsum(seq, /)\n",
      "        Return an accurate floating point sum of values in the iterable seq.\n",
      "        \n",
      "        Assumes IEEE-754 floating point arithmetic.\n",
      "    \n",
      "    gamma(x, /)\n",
      "        Gamma function at x.\n",
      "    \n",
      "    gcd(x, y, /)\n",
      "        greatest common divisor of x and y\n",
      "    \n",
      "    hypot(x, y, /)\n",
      "        Return the Euclidean distance, sqrt(x*x + y*y).\n",
      "    \n",
      "    isclose(a, b, *, rel_tol=1e-09, abs_tol=0.0)\n",
      "        Determine whether two floating point numbers are close in value.\n",
      "        \n",
      "          rel_tol\n",
      "            maximum difference for being considered \"close\", relative to the\n",
      "            magnitude of the input values\n",
      "          abs_tol\n",
      "            maximum difference for being considered \"close\", regardless of the\n",
      "            magnitude of the input values\n",
      "        \n",
      "        Return True if a is close in value to b, and False otherwise.\n",
      "        \n",
      "        For the values to be considered close, the difference between them\n",
      "        must be smaller than at least one of the tolerances.\n",
      "        \n",
      "        -inf, inf and NaN behave similarly to the IEEE 754 Standard.  That\n",
      "        is, NaN is not close to anything, even itself.  inf and -inf are\n",
      "        only close to themselves.\n",
      "    \n",
      "    isfinite(x, /)\n",
      "        Return True if x is neither an infinity nor a NaN, and False otherwise.\n",
      "    \n",
      "    isinf(x, /)\n",
      "        Return True if x is a positive or negative infinity, and False otherwise.\n",
      "    \n",
      "    isnan(x, /)\n",
      "        Return True if x is a NaN (not a number), and False otherwise.\n",
      "    \n",
      "    ldexp(x, i, /)\n",
      "        Return x * (2**i).\n",
      "        \n",
      "        This is essentially the inverse of frexp().\n",
      "    \n",
      "    lgamma(x, /)\n",
      "        Natural logarithm of absolute value of Gamma function at x.\n",
      "    \n",
      "    log(...)\n",
      "        log(x, [base=math.e])\n",
      "        Return the logarithm of x to the given base.\n",
      "        \n",
      "        If the base not specified, returns the natural logarithm (base e) of x.\n",
      "    \n",
      "    log10(x, /)\n",
      "        Return the base 10 logarithm of x.\n",
      "    \n",
      "    log1p(x, /)\n",
      "        Return the natural logarithm of 1+x (base e).\n",
      "        \n",
      "        The result is computed in a way which is accurate for x near zero.\n",
      "    \n",
      "    log2(x, /)\n",
      "        Return the base 2 logarithm of x.\n",
      "    \n",
      "    modf(x, /)\n",
      "        Return the fractional and integer parts of x.\n",
      "        \n",
      "        Both results carry the sign of x and are floats.\n",
      "    \n",
      "    pow(x, y, /)\n",
      "        Return x**y (x to the power of y).\n",
      "    \n",
      "    radians(x, /)\n",
      "        Convert angle x from degrees to radians.\n",
      "    \n",
      "    remainder(x, y, /)\n",
      "        Difference between x and the closest integer multiple of y.\n",
      "        \n",
      "        Return x - n*y where n*y is the closest integer multiple of y.\n",
      "        In the case where x is exactly halfway between two multiples of\n",
      "        y, the nearest even value of n is used. The result is always exact.\n",
      "    \n",
      "    sin(x, /)\n",
      "        Return the sine of x (measured in radians).\n",
      "    \n",
      "    sinh(x, /)\n",
      "        Return the hyperbolic sine of x.\n",
      "    \n",
      "    sqrt(x, /)\n",
      "        Return the square root of x.\n",
      "    \n",
      "    tan(x, /)\n",
      "        Return the tangent of x (measured in radians).\n",
      "    \n",
      "    tanh(x, /)\n",
      "        Return the hyperbolic tangent of x.\n",
      "    \n",
      "    trunc(x, /)\n",
      "        Truncates the Real x to the nearest Integral toward 0.\n",
      "        \n",
      "        Uses the __trunc__ magic method.\n",
      "\n",
      "DATA\n",
      "    e = 2.718281828459045\n",
      "    inf = inf\n",
      "    nan = nan\n",
      "    pi = 3.141592653589793\n",
      "    tau = 6.283185307179586\n",
      "\n",
      "FILE\n",
      "    /Users/cgivre/anaconda3/lib/python3.7/lib-dynload/math.cpython-37m-darwin.so\n",
      "\n",
      "\n"
     ]
    }
   ],
   "source": [
    "help(math)"
   ]
  },
  {
   "cell_type": "markdown",
   "metadata": {},
   "source": [
    "As you can see you get a much more robust documentation rather the single line summary from the `__doc__` property.  In general, it is preferable to use the `help()` method to access the documentation. \n",
    "\n",
    "# Accessing Documentation For Functions\n",
    "As you saw from the documention for the `math` library, the documentation is quite lengthy and explains every function in the library. This is a good thing, but if you are trying to figure out what a specific function does, you can use both methods to access the documentation for a specific function.  Let's try this for the `math.hypot()` function.  First let's try accessing the documentation via the `__doc__` property."
   ]
  },
  {
   "cell_type": "markdown",
   "metadata": {},
   "source": [
    "Now try it on the function using the `help()` method. To call help on a function, you can pass an object directly or you can pass a namespace and a function name:\n",
    "\n",
    "```python\n",
    "import pandas as pd\n",
    "\n",
    "# Gets the documentation for the read_csv() function\n",
    "help(pd.read_csv)\n",
    "\n",
    "OR\n",
    "\n",
    "df = pd.read_csv('data.csv')\n",
    "\n",
    "# Get the dataframe documentation\n",
    "help(df)\n",
    "```\n",
    "Your turn, call `help()` on the `math.hypot` function."
   ]
  },
  {
   "cell_type": "code",
   "execution_count": 13,
   "metadata": {
    "ExecuteTime": {
     "end_time": "2020-05-11T16:57:00.496397Z",
     "start_time": "2020-05-11T16:57:00.493069Z"
    }
   },
   "outputs": [
    {
     "name": "stdout",
     "output_type": "stream",
     "text": [
      "Help on built-in function hypot in module math:\n",
      "\n",
      "hypot(x, y, /)\n",
      "    Return the Euclidean distance, sqrt(x*x + y*y).\n",
      "\n"
     ]
    }
   ],
   "source": [
    "help(math.hypot)"
   ]
  },
  {
   "cell_type": "markdown",
   "metadata": {},
   "source": [
    "### One Other Neat Tip\n",
    "If you are using Jupyter notebook, you can move the cursor over a function, and hold down shift-tab and Jupyter will display the help() contents. "
   ]
  },
  {
   "cell_type": "markdown",
   "metadata": {},
   "source": [
    "## Writing Documentation\n",
    "Now that you've seen how to access the built in documentation for classes and functions, the next step is to write your own.  The documentation you have seen thus far is provided in what's called a `docstring`. Docstrings are comments that are formatted in a particular way so that the documentation framework interprets them as documentation and returms then when the `help()` functions are called. Docstrings are comments using the multi-line comments (even if they are only one line) that immediately follow the class or method declaration.\n",
    "\n",
    "Docstrings are indented at the same level as the object they are documenting.\n",
    "\n",
    "For example:\n",
    "\n",
    "```python\n",
    "class Car:\n",
    "    \"\"\"\n",
    "    This is a class for the purpose of demonstrating documentation by modeling a car\n",
    "    \n",
    "    Attributes:\n",
    "        isStarted (bool): Indicates whether the car is running or not\n",
    "        gasCapacity (float): The petrol tank capacity in liters\n",
    "        remainingGas (float): The remaining petrol in liters\n",
    "        model (string): The car model\n",
    "    \"\"\"\n",
    "    \n",
    "    def __init__(self, name, gasCapacity):\n",
    "        \"\"\"\n",
    "        The default constructor for the car class.\n",
    "        \n",
    "        Parameters:\n",
    "            name (string) The make/model of the vehicle\n",
    "            ...\n",
    "        \"\"\"\n",
    "\n",
    "```\n",
    "\n",
    "## Your Turn\n",
    "In the example below, add documentation to the function, then try calling the `help()` function on your function. "
   ]
  },
  {
   "cell_type": "code",
   "execution_count": 18,
   "metadata": {
    "ExecuteTime": {
     "end_time": "2020-05-11T18:26:38.853589Z",
     "start_time": "2020-05-11T18:26:38.850162Z"
    }
   },
   "outputs": [],
   "source": [
    "def countEvenItems(x):\n",
    "    \n",
    "    evenNumberCounter = 0\n",
    "    \n",
    "    for n in x:\n",
    "        if n % 2 == 0:\n",
    "            evenNumberCounter +=1\n",
    "            \n",
    "    return evenNumberCounter"
   ]
  },
  {
   "cell_type": "code",
   "execution_count": 19,
   "metadata": {
    "ExecuteTime": {
     "end_time": "2020-05-11T18:26:39.605499Z",
     "start_time": "2020-05-11T18:26:39.602314Z"
    }
   },
   "outputs": [
    {
     "name": "stdout",
     "output_type": "stream",
     "text": [
      "Help on function countEvenItems in module __main__:\n",
      "\n",
      "countEvenItems(x)\n",
      "\n"
     ]
    }
   ],
   "source": [
    "help(countEvenItems)"
   ]
  },
  {
   "cell_type": "markdown",
   "metadata": {},
   "source": [
    "# Parting Thoughts,\n",
    "In conclusion, python provides you with a built-in way of providing useful documentation to users of your code. As you've seen in these examples, it is very quick and easy to write docstrings and add them to your code.  \n",
    "\n",
    "There are several different formats for docstrings, but whichever format you choose to use, you should include at a minimum:\n",
    "\n",
    "* a brief description of what your function or class does\n",
    "* a description of any publicly accessible attributes (for classes)\n",
    "* a description of any input parameters for functions\n",
    "* a description of any return values\n",
    "* a listing of any exceptions thrown by the code and what causes them\n",
    "\n",
    "## Fancier Documentation\n",
    "In addition to the built-in documentation using docstrings, with the following commands, python can stand up a small webserver and render your documentation in a webbrowser.  \n",
    "\n",
    "```python\n",
    "# For command line\n",
    ">>> python -m pydoc -b\n",
    "\n",
    "\n",
    "# For Jupyter Notebooks\n",
    "!python -m pydoc -b\n",
    "```\n",
    "\n",
    "Good luck and keep on documenting!\n",
    "\n",
    "\n",
    "## References:\n",
    "Here are some additional references:\n",
    "\n",
    "* https://www.python.org/dev/peps/pep-0257/#specification\n",
    "* https://docs.python-guide.org/writing/documentation/\n",
    "* https://www.geeksforgeeks.org/python-docstrings/"
   ]
  },
  {
   "cell_type": "code",
   "execution_count": null,
   "metadata": {},
   "outputs": [],
   "source": []
  }
 ],
 "metadata": {
  "kernelspec": {
   "display_name": "Python 3",
   "language": "python",
   "name": "python3"
  },
  "language_info": {
   "codemirror_mode": {
    "name": "ipython",
    "version": 3
   },
   "file_extension": ".py",
   "mimetype": "text/x-python",
   "name": "python",
   "nbconvert_exporter": "python",
   "pygments_lexer": "ipython3",
   "version": "3.7.7"
  },
  "varInspector": {
   "cols": {
    "lenName": 16,
    "lenType": 16,
    "lenVar": 40
   },
   "kernels_config": {
    "python": {
     "delete_cmd_postfix": "",
     "delete_cmd_prefix": "del ",
     "library": "var_list.py",
     "varRefreshCmd": "print(var_dic_list())"
    },
    "r": {
     "delete_cmd_postfix": ") ",
     "delete_cmd_prefix": "rm(",
     "library": "var_list.r",
     "varRefreshCmd": "cat(var_dic_list()) "
    }
   },
   "types_to_exclude": [
    "module",
    "function",
    "builtin_function_or_method",
    "instance",
    "_Feature"
   ],
   "window_display": false
  }
 },
 "nbformat": 4,
 "nbformat_minor": 4
}
