{
 "cells": [
  {
   "cell_type": "markdown",
   "metadata": {},
   "source": [
    "# Logging with R\n",
    "\n",
    "Logging is one of the most useful tools in a code writer's toolkit. All too often, people get in the habit of using `print` statements to debug their code. While convenient, this causes a few problems. Firstly, what happens when you are done debugging? You now have to go back and remove all these `print` statements. If you forget one, you could be exposing potentially sensitive information or just generally cluttering up your user's screen with unnecesssary information. \n",
    "\n",
    "\n",
    "In this scenario, you will learn how to use R's native logging features to:\n",
    "\n",
    "* Debug your code\n",
    "* Log failed and successful execution\n",
    "* Send logs to different destination\n",
    "\n",
    "Let's get started!\n",
    "\n",
    "## How Logging Works\n",
    "A logger is basically an enhanced print statement, with a few key enhancements:\n",
    "\n",
    "1. You can globally control when it fires. \n",
    "2. You can automatically add additional metadata such as process information, execution time etc. \n",
    "3. You can easily direct the output to different places, such as files, email, or remote log aggregators.\n",
    "\n",
    "\n",
    "## The Logging Module\n",
    "R does not have a logging module built into the language so is necessary to install any additional modules to run the examples in this lab.  While there are many logging modules available for R, I recommend the `logger` package which is available here: https://github.com/daroczig/logger. \n",
    "\n",
    "To install this package, simply execute the following command:\n",
    "\n",
    "```R\n",
    "install.packages('logger')\n",
    "```\n",
    "\n",
    "This module must be imported at the beginning of your script or notebook with the command:"
   ]
  },
  {
   "cell_type": "code",
   "execution_count": 2,
   "metadata": {
    "ExecuteTime": {
     "end_time": "2020-06-22T05:12:15.310253Z",
     "start_time": "2020-06-22T05:12:15.255Z"
    }
   },
   "outputs": [],
   "source": [
    "library(logger)"
   ]
  },
  {
   "cell_type": "markdown",
   "metadata": {},
   "source": [
    "## Logging Levels\n",
    "R-logger has five standard logging levels which are:\n",
    "\n",
    "* `TRACE` (0)\n",
    "* `DEBUG` (10)\n",
    "* `INFO` (20)\n",
    "* `WARNING` (30)\n",
    "* `ERROR` (40)\n",
    "* `FATAL` (50)\n",
    "\n",
    "The logging levels are heirarchical, meaning that if you set the logging level to `ERROR` you will receive any messages at the `ERROR` or `FATAL` level.  By setting the level appropriately, you can control which level of messages are displayed. In general, when you are debugging you will want to set the logging level as low as possible and when you deploy your code, you will set the logging level higher.\n",
    "\n",
    "Note: Logging messages at the `ERROR` level do not halt execution. To do that you still have to throw an exception. \n",
    "\n",
    "To set the logging level, use the following command: \n",
    "```R\n",
    "log_threshold(DEBUG)\n",
    "```\n",
    "Once you've done that, the next step is to actually add logging messages to your code. Instead of `print()` statements for debugging, you can use:\n",
    "                                                      \n",
    "```R\n",
    "log_debug('The value of x is: {x}')\n",
    "```\n",
    "Note the use of `glue` formatting in the log messages.\n",
    "\n",
    "In the example below, run the code with the logging level set to `DEBUG` then try it again with the level set to `ERROR` and watch what happens.  "
   ]
  },
  {
   "cell_type": "code",
   "execution_count": 3,
   "metadata": {
    "ExecuteTime": {
     "end_time": "2020-06-22T05:12:16.904105Z",
     "start_time": "2020-06-22T05:12:16.840Z"
    }
   },
   "outputs": [
    {
     "name": "stdout",
     "output_type": "stream",
     "text": [
      "INFO [2020-06-22 01:12:16] In count vowels function\n",
      "INFO [2020-06-22 01:12:16] Found a vowel: e\n",
      "WARN [2020-06-22 01:12:16] n is not a vowel\n",
      "WARN [2020-06-22 01:12:16] c is not a vowel\n",
      "INFO [2020-06-22 01:12:16] Found a y and that is sometimes a vowel.\n",
      "WARN [2020-06-22 01:12:16] l is not a vowel\n",
      "INFO [2020-06-22 01:12:16] Found a vowel: o\n",
      "WARN [2020-06-22 01:12:16] p is not a vowel\n",
      "INFO [2020-06-22 01:12:16] Found a vowel: e\n",
      "WARN [2020-06-22 01:12:16] d is not a vowel\n",
      "INFO [2020-06-22 01:12:16] Found a vowel: i\n",
      "INFO [2020-06-22 01:12:16] Found a vowel: a\n",
      "INFO [2020-06-22 01:12:16] There are 5 vowels in encylopedia\n",
      "INFO [2020-06-22 01:12:16] In count vowels function\n",
      "WARN [2020-06-22 01:12:16] f is not a vowel\n",
      "INFO [2020-06-22 01:12:16] Found a vowel: a\n",
      "WARN [2020-06-22 01:12:16] c is not a vowel\n",
      "INFO [2020-06-22 01:12:16] Found a vowel: e\n",
      "WARN [2020-06-22 01:12:16] b is not a vowel\n",
      "WARN [2020-06-22 01:12:16] 0 is not a vowel\n",
      "WARN [2020-06-22 01:12:16] 0 is not a vowel\n",
      "WARN [2020-06-22 01:12:16] k is not a vowel\n",
      "INFO [2020-06-22 01:12:16] There are 2 vowels in faceb00k\n"
     ]
    }
   ],
   "source": [
    "# Set the logging level to DEBUG\n",
    "log_threshold(DEBUG)\n",
    "\n",
    "countVowels <- function(word) {\n",
    "    log_info(\"In count vowels function\")\n",
    "    vowel_count <- 0\n",
    "    \n",
    "    letters <- strsplit(word, \"\")[[1]]\n",
    "    for (letter in letters) {\n",
    "        if (letter=='a' || letter =='e' || letter == 'i' || letter == 'o' || letter == 'u') {\n",
    "            vowel_count <- vowel_count + 1\n",
    "            log_info(\"Found a vowel: {letter}\")\n",
    "        } else if (letter == 'y') {\n",
    "            log_info(\"Found a y and that is sometimes a vowel.\")\n",
    "        } else if (is.numeric(letter)) {\n",
    "            log_error(\"Numbers aren't vowels!!\")\n",
    "        } else {\n",
    "            log_warn(\"{letter} is not a vowel\")\n",
    "        }\n",
    "    }\n",
    "    \n",
    "    return(vowel_count)\n",
    "}\n",
    "\n",
    "count <- countVowels(\"encylopedia\")\n",
    "log_info(\"There are {count} vowels in encylopedia\")\n",
    "\n",
    "count <- countVowels(\"faceb00k\")    \n",
    "log_info(\"There are {count} vowels in faceb00k\")\n"
   ]
  },
  {
   "cell_type": "markdown",
   "metadata": {},
   "source": [
    "# Log Formatting\n",
    "Unlike Python, log messages in R are nicely formatted by default and you probably will not have to alter the message formatting. \n",
    "\n",
    "However, in the event that you do wish to change the log formatting, the first step is to view what variables are available to you.  You can view the available variables with the following command. [1]\n",
    "\n",
    "```R\n",
    "?get_logger_meta_variables\n",
    "```\n",
    "\n",
    "Once you know which variables you want to include or exclude in your log messages, there are two steps:\n",
    "1. First call the `layout_glue_generator()` function and create a new logger format string as shown below.\n",
    "2. Next, call the `log_layout()` method to assign the new formatter to the logger.\n",
    "\n",
    "```R\n",
    "logger <- layout_glue_generator(format = '{node}/{pid}/{namespace}/{fn} {time} {level}: {msg}')\n",
    "log_layout(logger)\n",
    "```\n",
    "\n",
    "You can format logs in other formats such as `json` however, I would recommend sticking with a standard logging format such as syslog. \n",
    "\n",
    "\n",
    "[1]: https://daroczig.github.io/logger/articles/customize_logger.html#log-message-formatter-functions"
   ]
  },
  {
   "cell_type": "code",
   "execution_count": 10,
   "metadata": {
    "ExecuteTime": {
     "end_time": "2020-06-22T05:30:59.089821Z",
     "start_time": "2020-06-22T05:30:59.076Z"
    }
   },
   "outputs": [],
   "source": [
    "logger <- layout_glue_generator(format = '{time} {level} {pid}/{namespace}/{fn}: {msg}')\n",
    "log_layout(logger)"
   ]
  },
  {
   "cell_type": "code",
   "execution_count": 11,
   "metadata": {
    "ExecuteTime": {
     "end_time": "2020-06-22T05:30:59.598164Z",
     "start_time": "2020-06-22T05:30:59.583Z"
    }
   },
   "outputs": [
    {
     "name": "stdout",
     "output_type": "stream",
     "text": [
      "2020-06-22 01:30:59 DEBUG 61238/global/eval: Test message\n"
     ]
    }
   ],
   "source": [
    "log_debug(\"Test message\")"
   ]
  },
  {
   "cell_type": "markdown",
   "metadata": {},
   "source": [
    "# Sending Logs to Different Destinations\n",
    "Our final task is learning how to send logs to different destinations. In production situations, you may want to be notified immediately via email or SMS message if your code is throwing a `CRITICAL` but you might only want confirmation of successful execution recorded in a file.  \n",
    "\n",
    "Let's consider the following pseudo code:\n",
    "\n",
    "```\n",
    "db_connection <- connect_to_database()\n",
    "if db_connection is null:\n",
    "    email_logger.critical(\"Database connection failed.\")\n",
    "    exit(1)\n",
    "else:\n",
    "    file_logger.info(\"Database connection succeeded\")\n",
    "\n",
    "# Process data...\n",
    "\n",
    "file_logger.info(\"Sucessfully processed %d records\", record_count)\n",
    "\n",
    "```\n",
    "This code will send an email and stop execution if the connection to the database fails. If the connection to the database succeeds, execution will continue and the script will record its successful completion in a logfile. \n",
    "\n",
    "## Log Namespaces\n",
    "So far, we've been using the root logger. In practice, you may want to create multiple loggers to do different things with log messages. As we saw in the example above, we might want to be notified immediately via email or SMS if there is a critical failure, but we might also simply want to record successful completion of execution in a log file. \n",
    "\n",
    "In order to do this, you will need to define `namespaces` within the logger.  You can think of this as creating separate loggers for different purposes. The logger module allows you to do this simply by defining the `namespace` argument in any of the logging functions. \n"
   ]
  },
  {
   "cell_type": "code",
   "execution_count": 14,
   "metadata": {
    "ExecuteTime": {
     "end_time": "2020-06-22T13:56:09.283591Z",
     "start_time": "2020-06-22T13:56:09.258Z"
    }
   },
   "outputs": [
    {
     "name": "stdout",
     "output_type": "stream",
     "text": [
      "2020-06-22 09:56:09 INFO 61238/debug_logger/eval: You should see me\n",
      "2020-06-22 09:56:09 FATAL 61238/global/eval: Oh No!! Something serious happened\n"
     ]
    }
   ],
   "source": [
    "log_threshold(FATAL, namespace = 'SMS_Logger')\n",
    "log_threshold(DEBUG, namespace = 'debug_logger')\n",
    "\n",
    "log_info(\"You should see me\", namespace='debug_logger')\n",
    "log_info(\"But not me...\", namespace = \"SMS_Logger\")\n",
    "log_fatal(\"Oh No!! Something serious happened\")"
   ]
  },
  {
   "cell_type": "markdown",
   "metadata": {},
   "source": [
    "## Redirecting Log Output\n",
    "So far, we've seen loggers that send output to the console via standard output. As you saw in the pseudo code earlier, quite often you will want to append routine messages to a file for examination later, and send more critical messages to email or even SMS. \n",
    "\n",
    "Obviously, as your code matures and is placed into a production state, you'll want to disable `DEBUG` messages entirely. \n",
    "\n",
    "In any event, what you will need to add an `appender` to your log namespace which will redirect the messages to the appropriate destination. Some example appenders include `appender_file` which sends logs to a file and `appender_slack` which sends messages to a Slack channel.\n",
    "\n",
    "For a complete list of appenders look here: [1].  If you're interested in writing your own custom appender look here: [2].\n",
    "\n",
    "The code below from the documentation[3] demonstrates how to use the slack appender to send log messages to Slack.\n",
    "\n",
    "```R\n",
    "## load Slack configuration, API token etc from a (hopefully encrypted) yaml file or similar\n",
    "slack_config <- config::config(...)\n",
    "## redirect log messages to Slack\n",
    "log_appender(appender_slack(\n",
    "    channel   = '#gergely-test',\n",
    "    username  = 'logger',\n",
    "    api_token = slack_config$token\n",
    "), namespace = 'slack')\n",
    "log_info('Excited about sending logs to Slack!')\n",
    "#> INFO [2018-11-28 00:21:13] Excited about sending logs to Slack!\n",
    "log_info('Hi there from logger@R!', namespace = 'slack')\n",
    "```\n",
    "\n",
    "\n",
    "[1]:https://rdrr.io/cran/logger/man/appender_file.html\n",
    "[2]: https://daroczig.github.io/logger/articles/write_custom_extensions.html#custom-log-record-appenders-1\n",
    "[3]: https://daroczig.github.io/logger/articles/customize_logger.html#what-gets-logged"
   ]
  },
  {
   "cell_type": "markdown",
   "metadata": {},
   "source": [
    "# Conclusion \n",
    "In conclusion, in this module you have learned how to use logging to track the actions of your code and report them to different locations. I hope you see the value of logging as a replacement for print statements in debugging, as a way to track the execution of your code and send alerts when things go awry.\n",
    "\n",
    "\n",
    "This scene is only a brief intro to the world of logging with R and there are many additional facets you can explore, however at a minimum, I hope I've convinced you to stop using `print()` statements and replace them with `log_debug()`. \n",
    "\n",
    "Finally, as a security professional I need to include the admonition to never include credentials or other sensitive information in logs!\n",
    "\n",
    "\n",
    "### Further References\n",
    "* https://daroczig.github.io/logger/index.html\n",
    "* http://mazamascience.com/WorkingWithData/?p=1814"
   ]
  },
  {
   "cell_type": "code",
   "execution_count": null,
   "metadata": {},
   "outputs": [],
   "source": []
  }
 ],
 "metadata": {
  "kernelspec": {
   "display_name": "R",
   "language": "R",
   "name": "ir"
  },
  "language_info": {
   "codemirror_mode": "r",
   "file_extension": ".r",
   "mimetype": "text/x-r-source",
   "name": "R",
   "pygments_lexer": "r",
   "version": "4.0.0"
  },
  "varInspector": {
   "cols": {
    "lenName": 16,
    "lenType": 16,
    "lenVar": 40
   },
   "kernels_config": {
    "python": {
     "delete_cmd_postfix": "",
     "delete_cmd_prefix": "del ",
     "library": "var_list.py",
     "varRefreshCmd": "print(var_dic_list())"
    },
    "r": {
     "delete_cmd_postfix": ") ",
     "delete_cmd_prefix": "rm(",
     "library": "var_list.r",
     "varRefreshCmd": "cat(var_dic_list()) "
    }
   },
   "types_to_exclude": [
    "module",
    "function",
    "builtin_function_or_method",
    "instance",
    "_Feature"
   ],
   "window_display": false
  }
 },
 "nbformat": 4,
 "nbformat_minor": 4
}
