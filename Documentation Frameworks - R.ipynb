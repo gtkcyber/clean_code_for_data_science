{
 "cells": [
  {
   "cell_type": "markdown",
   "metadata": {},
   "source": [
    "# Using Documentation Frameworks - R\n",
    "One of the most important yet often overlooked tasks when writing code is writing documentation so that you  can use and maintain your code.  Documentation is especially important if you are writing code that will be used and maintained by other people. \n",
    "\n",
    "R natively provides you with a few mechanisms to document your code as you write it and there are additional third-party modules which can produce formatted websites with your documentation.\n",
    "\n",
    "This scenario will walk you through:\n",
    "* How to access built in documentation\n",
    "* How to use `docstrings` to document your classes and methods\n",
    "* Best practices for documenting "
   ]
  },
  {
   "cell_type": "markdown",
   "metadata": {},
   "source": [
    "# Accessing Existing Documentation\n",
    "R provides users with several ways of accessing documentation that is included in R code. Let's consider, the `stats` package which is included in standard R. The first step is to import the module. "
   ]
  },
  {
   "cell_type": "code",
   "execution_count": 3,
   "metadata": {
    "ExecuteTime": {
     "end_time": "2020-06-23T02:05:26.836667Z",
     "start_time": "2020-06-23T02:05:26.822Z"
    }
   },
   "outputs": [],
   "source": [
    "library(\"stats\")"
   ]
  },
  {
   "cell_type": "markdown",
   "metadata": {
    "ExecuteTime": {
     "end_time": "2020-05-20T00:45:11.869993Z",
     "start_time": "2020-05-20T00:45:11.222Z"
    }
   },
   "source": [
    "Once that's done, there are two ways of accessing the docstrings, you can access a package's documentation via the `?` operator, the `??` or you can use the `help()` function. \n",
    "\n",
    "First, run the code below to see what you get when you access the docstring directly with the `?stats`."
   ]
  },
  {
   "cell_type": "code",
   "execution_count": 7,
   "metadata": {
    "ExecuteTime": {
     "end_time": "2020-06-23T02:08:28.904708Z",
     "start_time": "2020-06-23T02:08:28.860Z"
    }
   },
   "outputs": [],
   "source": [
    "?stats"
   ]
  },
  {
   "cell_type": "code",
   "execution_count": 8,
   "metadata": {
    "ExecuteTime": {
     "end_time": "2020-06-23T02:08:29.667697Z",
     "start_time": "2020-06-23T02:08:29.646Z"
    }
   },
   "outputs": [],
   "source": [
    "library(help = \"stats\")"
   ]
  },
  {
   "cell_type": "code",
   "execution_count": 1,
   "metadata": {
    "ExecuteTime": {
     "end_time": "2020-05-20T01:06:18.655780Z",
     "start_time": "2020-05-20T01:06:18.608Z"
    }
   },
   "outputs": [
    {
     "data": {
      "text/html": [
       "\n",
       "<table width=\"100%\" summary=\"page for stats-package {stats}\"><tr><td>stats-package {stats}</td><td style=\"text-align: right;\">R Documentation</td></tr></table>\n",
       "\n",
       "<h2>\n",
       "The R Stats Package\n",
       "</h2>\n",
       "\n",
       "<h3>Description</h3>\n",
       "\n",
       "<p>R statistical functions\n",
       "</p>\n",
       "\n",
       "\n",
       "<h3>Details</h3>\n",
       "\n",
       "<p>This package contains functions for statistical calculations\n",
       "and random number generation.\n",
       "</p>\n",
       "<p>For a complete\n",
       "list of functions, use <code>library(help = \"stats\")</code>.\n",
       "</p>\n",
       "\n",
       "\n",
       "<h3>Author(s)</h3>\n",
       "\n",
       "<p>R Core Team and contributors worldwide\n",
       "</p>\n",
       "<p>Maintainer: R Core Team <a href=\"mailto:R-core@r-project.org\">R-core@r-project.org</a>\n",
       "</p>\n",
       "\n",
       "<hr /><div style=\"text-align: center;\">[Package <em>stats</em> version 4.0.0 ]</div>"
      ],
      "text/latex": [
       "\\inputencoding{utf8}\n",
       "\\HeaderA{stats-package}{The R Stats Package}{stats.Rdash.package}\n",
       "\\aliasA{stats}{stats-package}{stats}\n",
       "\\keyword{package}{stats-package}\n",
       "%\n",
       "\\begin{Description}\\relax\n",
       "R statistical functions\n",
       "\\end{Description}\n",
       "%\n",
       "\\begin{Details}\\relax\n",
       "This package contains functions for statistical calculations\n",
       "and random number generation.\n",
       "\n",
       "For a complete\n",
       "list of functions, use \\code{library(help = \"stats\")}.\n",
       "\n",
       "\\end{Details}\n",
       "%\n",
       "\\begin{Author}\\relax\n",
       "R Core Team and contributors worldwide\n",
       "\n",
       "Maintainer: R Core Team \\email{R-core@r-project.org}\n",
       "\\end{Author}"
      ],
      "text/plain": [
       "stats-package              package:stats               R Documentation\n",
       "\n",
       "_\bT_\bh_\be _\bR _\bS_\bt_\ba_\bt_\bs _\bP_\ba_\bc_\bk_\ba_\bg_\be\n",
       "\n",
       "_\bD_\be_\bs_\bc_\br_\bi_\bp_\bt_\bi_\bo_\bn:\n",
       "\n",
       "     R statistical functions\n",
       "\n",
       "_\bD_\be_\bt_\ba_\bi_\bl_\bs:\n",
       "\n",
       "     This package contains functions for statistical calculations and\n",
       "     random number generation.\n",
       "\n",
       "     For a complete list of functions, use ‘library(help = \"stats\")’.\n",
       "\n",
       "_\bA_\bu_\bt_\bh_\bo_\br(_\bs):\n",
       "\n",
       "     R Core Team and contributors worldwide\n",
       "\n",
       "     Maintainer: R Core Team <email: R-core@r-project.org>\n"
      ]
     },
     "metadata": {},
     "output_type": "display_data"
    }
   ],
   "source": [
    "help(stats)"
   ]
  },
  {
   "cell_type": "code",
   "execution_count": 13,
   "metadata": {
    "ExecuteTime": {
     "end_time": "2020-06-23T02:09:45.777080Z",
     "start_time": "2020-06-23T02:09:45.744Z"
    }
   },
   "outputs": [
    {
     "data": {
      "text/plain": [
       "No vignettes or demos or help files found with alias or concept or\n",
       "title matching ‘stats.anova’ using regular expression matching."
      ]
     },
     "metadata": {},
     "output_type": "display_data"
    }
   ],
   "source": [
    "??stats.anova"
   ]
  },
  {
   "cell_type": "code",
   "execution_count": 14,
   "metadata": {
    "ExecuteTime": {
     "end_time": "2020-06-23T02:11:17.462168Z",
     "start_time": "2020-06-23T02:11:17.400Z"
    }
   },
   "outputs": [],
   "source": [
    "?anova"
   ]
  },
  {
   "cell_type": "code",
   "execution_count": 17,
   "metadata": {
    "ExecuteTime": {
     "end_time": "2020-06-23T02:12:37.386654Z",
     "start_time": "2020-06-23T02:12:37.332Z"
    }
   },
   "outputs": [],
   "source": [
    "help(anova, package=\"stats\" )"
   ]
  },
  {
   "cell_type": "code",
   "execution_count": null,
   "metadata": {},
   "outputs": [],
   "source": []
  }
 ],
 "metadata": {
  "kernelspec": {
   "display_name": "R",
   "language": "R",
   "name": "ir"
  },
  "language_info": {
   "codemirror_mode": "r",
   "file_extension": ".r",
   "mimetype": "text/x-r-source",
   "name": "R",
   "pygments_lexer": "r",
   "version": "4.0.0"
  },
  "varInspector": {
   "cols": {
    "lenName": 16,
    "lenType": 16,
    "lenVar": 40
   },
   "kernels_config": {
    "python": {
     "delete_cmd_postfix": "",
     "delete_cmd_prefix": "del ",
     "library": "var_list.py",
     "varRefreshCmd": "print(var_dic_list())"
    },
    "r": {
     "delete_cmd_postfix": ") ",
     "delete_cmd_prefix": "rm(",
     "library": "var_list.r",
     "varRefreshCmd": "cat(var_dic_list()) "
    }
   },
   "types_to_exclude": [
    "module",
    "function",
    "builtin_function_or_method",
    "instance",
    "_Feature"
   ],
   "window_display": false
  }
 },
 "nbformat": 4,
 "nbformat_minor": 4
}
